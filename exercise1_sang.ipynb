{
 "cells": [
  {
   "cell_type": "code",
   "execution_count": 12,
   "metadata": {},
   "outputs": [],
   "source": [
    "import random"
   ]
  },
  {
   "cell_type": "markdown",
   "metadata": {},
   "source": [
    "### Trong project này, chúng ta sẽ làm 1 trò chơi nhỏ mang tên đoán số. Cụ thể, Máy tính sẽ chọn random 1 số từ 1 đến 10. \n",
    "### Chúng ta sẽ đoán máy tính chọn số bao nhiêu?\n",
    "#### - Nếu số chúng ta đoán thấp hơn máy tính thì in ra \"your guess is too low\"\n",
    "#### - Nếu số chúng ta đoán cao hơn máy tính thì in ra \"your guess is too high\"\n",
    "#### - Nếu chúng ta đoán đúng số thì in ra \"you got the right number after\" xx \"tries\" trong đó xx là số lần đoán.\n",
    "#### - Trường hợp 5 lần đoán sai thì sẽ dừng trò chơi và in ra \"Gameover!!! The number was yy\" trong đó yy là số mà máy tính chọn\n",
    "\n",
    "#### Những kiến thức cover trong project này: input(), print(), while loop, if else, break."
   ]
  },
  {
   "cell_type": "code",
   "execution_count": 13,
   "metadata": {},
   "outputs": [
    {
     "name": "stdout",
     "output_type": "stream",
     "text": [
      "Enter player name: sa\n",
      "Hi, SA! welcome SA to the guessing game\n"
     ]
    }
   ],
   "source": [
    "# generate random number\n",
    "import random\n",
    "import math\n",
    "x = random.randint(1,10)\n",
    "\n",
    "# ask player name\n",
    "name = input(\"Enter player name: \")\n",
    "name = name.upper()\n",
    "# Say hi and welcome player to the guessing game\n",
    "print(\"Hi, \"+name +\"! welcome \"+name +\" to the guessing game\")\n"
   ]
  },
  {
   "cell_type": "code",
   "execution_count": 21,
   "metadata": {},
   "outputs": [
    {
     "name": "stdout",
     "output_type": "stream",
     "text": [
      "Guess a number:- 5\n",
      "You Guessed too high!\n",
      "Guess a number:- 3\n",
      "You guessed too low\n",
      "Guess a number:- 5\n",
      "You Guessed too high!\n",
      "Guess a number:- 3\n",
      "You guessed too low\n",
      "Guess a number:- 4\n",
      "you got the right number after  5  tries\n"
     ]
    }
   ],
   "source": [
    "# develop while loop\n",
    "count = 0\n",
    "while count < 5:\n",
    "    count += 1\n",
    " \n",
    "    # taking guessing number as input\n",
    "    guess = int(input(\"Guess a number:- \"))\n",
    " \n",
    "    # Condition testing\n",
    "    if x == guess:\n",
    "        print(\"you got the right number after \",\n",
    "              count, \" tries\")\n",
    "        # Once guessed, loop will break\n",
    "        break\n",
    "    elif x > guess:\n",
    "        print(\"You guessed too low\")\n",
    "    else:\n",
    "        print(\"You Guessed too high!\")\n",
    "\n",
    "# guess = computer number        \n",
    "\n",
    "# guess times > 5   \n",
    "overrules = [count >= 5,\n",
    "        x != guess]\n",
    "if all(overrules):\n",
    "    print(\"\\nGameover!!! The number was %d\" % x)"
   ]
  },
  {
   "cell_type": "code",
   "execution_count": null,
   "metadata": {},
   "outputs": [],
   "source": [
    "\n"
   ]
  },
  {
   "cell_type": "code",
   "execution_count": null,
   "metadata": {},
   "outputs": [],
   "source": []
  }
 ],
 "metadata": {
  "kernelspec": {
   "display_name": "Python 3 (ipykernel)",
   "language": "python",
   "name": "python3"
  },
  "language_info": {
   "codemirror_mode": {
    "name": "ipython",
    "version": 3
   },
   "file_extension": ".py",
   "mimetype": "text/x-python",
   "name": "python",
   "nbconvert_exporter": "python",
   "pygments_lexer": "ipython3",
   "version": "3.9.7"
  }
 },
 "nbformat": 4,
 "nbformat_minor": 2
}
